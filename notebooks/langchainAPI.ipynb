{
 "cells": [
  {
   "cell_type": "code",
   "execution_count": 1,
   "metadata": {},
   "outputs": [],
   "source": [
    "import os\n",
    "# os.environ[\"OPENAI_API_KEY\"] "
   ]
  },
  {
   "cell_type": "code",
   "execution_count": 14,
   "metadata": {},
   "outputs": [
    {
     "name": "stdout",
     "output_type": "stream",
     "text": [
      "c:\\Users\\joaop\\Desktop\\Github\\langchain-api\\notebooks\\test_file\\undocummented_file.py\n"
     ]
    },
    {
     "data": {
      "text/plain": [
       "'from fastapi import FastAPI, HTTPException\\nimport uvicorn\\nfrom typing import Dict\\n\\nimport os\\nimport sys\\nfrom dotenv import load_dotenv\\nload_dotenv(\\'.env\\')\\n\\nsys.path.append(os.getcwd().split(os.environ[\\'PROJECT_NAME\\'])[0] + os.environ[\\'PROJECT_NAME\\'] + \\'/src\\')\\nimport langchain_functions\\n\\napp = FastAPI()\\n\\n@app.post(\"/generate_docstring\")\\ndef generate_docstring(request: Dict):\\n    try:\\n        # Run the LangChain function to generate the docstring\\n        output_code = langchain_functions.generate_docstring(request[\\'file_contents\\'])\\n        \\n        # Return the code with docstring\\n        return {\"output_code\": output_code}\\n    \\n    except Exception as e:\\n        # Return an error if something goes wrong\\n        raise HTTPException(status_code=500, detail=str(e))\\n    \\n@app.get(\"/\")\\nasync def root():\\n    return {\"message\": \"API Running\"}\\n\\nif __name__ == \"__main__\":\\n    uvicorn.run(app, host=\"0.0.0.0\", port=8000)'"
      ]
     },
     "execution_count": 14,
     "metadata": {},
     "output_type": "execute_result"
    }
   ],
   "source": [
    "base_project_path = os.getcwd().split(os.environ['PROJECT_NAME'])[0] + os.environ['PROJECT_NAME'] \n",
    "\n",
    "undocumented_file_path = base_project_path + '\\\\notebooks\\\\test_file\\\\undocummented_file.py'\n",
    "\n",
    "print(undocumented_file_path)\n",
    "\n",
    "# Step 1: Read the Python file\n",
    "with open(undocumented_file_path, 'r') as file:\n",
    "    code = file.read()\n",
    "    \n",
    "code"
   ]
  },
  {
   "cell_type": "code",
   "execution_count": 33,
   "metadata": {},
   "outputs": [],
   "source": [
    "from langchain.llms import OpenAI\n",
    "\n",
    "# llm = OpenAI(temperature=0.5)\n",
    "llm = OpenAI(temperature=0, max_tokens=len(code))\n",
    "\n",
    "# output_code = llm.predict('''Create a docstring for the following python code file and return the same code in file format:''' + code)"
   ]
  },
  {
   "cell_type": "code",
   "execution_count": 34,
   "metadata": {},
   "outputs": [
    {
     "data": {
      "text/plain": [
       "'I need you to create a docstring for each function and class present in the following code, just return the same code as provided but adding a docstring: from fastapi import FastAPI, HTTPException\\nimport uvicorn\\nfrom typing import Dict\\n\\nimport os\\nimport sys\\nfrom dotenv import load_dotenv\\nload_dotenv(\\'.env\\')\\n\\nsys.path.append(os.getcwd().split(os.environ[\\'PROJECT_NAME\\'])[0] + os.environ[\\'PROJECT_NAME\\'] + \\'/src\\')\\nimport langchain_functions\\n\\napp = FastAPI()\\n\\n@app.post(\"/generate_docstring\")\\ndef generate_docstring(request: Dict):\\n    try:\\n        # Run the LangChain function to generate the docstring\\n        output_code = langchain_functions.generate_docstring(request[\\'file_contents\\'])\\n        \\n        # Return the code with docstring\\n        return {\"output_code\": output_code}\\n    \\n    except Exception as e:\\n        # Return an error if something goes wrong\\n        raise HTTPException(status_code=500, detail=str(e))\\n    \\n@app.get(\"/\")\\nasync def root():\\n    return {\"message\": \"API Running\"}\\n\\nif __name__ == \"__main__\":\\n    uvicorn.run(app, host=\"0.0.0.0\", port=8000)'"
      ]
     },
     "execution_count": 34,
     "metadata": {},
     "output_type": "execute_result"
    }
   ],
   "source": [
    "from langchain.prompts import PromptTemplate\n",
    "\n",
    "# prompt = PromptTemplate.from_template(\"Create a documentation with docstring python pattern for each function for the following python code file and return the same code with the docstring in the right python file format: {code}\")\n",
    "prompt = PromptTemplate.from_template(\"I need you to create a docstring for each function and class present in the following code, just return the same code as provided but adding a docstring: {code}\")\n",
    "\n",
    "prompt.format(code=code)"
   ]
  },
  {
   "cell_type": "code",
   "execution_count": 35,
   "metadata": {},
   "outputs": [
    {
     "data": {
      "text/plain": [
       "'\\n\\nfrom fastapi import FastAPI, HTTPException\\nimport uvicorn\\nfrom typing import Dict\\n\\nimport os\\nimport sys\\nfrom dotenv import load_dotenv\\nload_dotenv(\\'.env\\')\\n\\nsys.path.append(os.getcwd().split(os.environ[\\'PROJECT_NAME\\'])[0] + os.environ[\\'PROJECT_NAME\\'] + \\'/src\\')\\nimport langchain_functions\\n\\napp = FastAPI()\\n\\n@app.post(\"/generate_docstring\")\\ndef generate_docstring(request: Dict):\\n    \"\"\"\\n    Generates a docstring for a given code.\\n\\n    Parameters:\\n    request (Dict): A dictionary containing the code to generate a docstring for.\\n\\n    Returns:\\n    output_code (str): The code with the generated docstring.\\n    \"\"\"\\n    try:\\n        # Run the LangChain function to generate the docstring\\n        output_code = langchain_functions.generate_docstring(request[\\'file_contents\\'])\\n        \\n        # Return the code with docstring\\n        return {\"output_code\": output_code}\\n    \\n    except Exception as e:\\n        # Return an error if something goes wrong\\n        raise HTTPException(status_code=500, detail=str(e))\\n    \\n@app.get(\"/\")\\nasync def root():\\n    \"\"\"\\n    Returns a message indicating that the API is running.\\n    \"\"\"\\n    return {\"message\": \"API Running\"}\\n\\nif __name__ == \"__main__\":\\n    uvicorn.run(app, host=\"0.0.0.0\", port=8000)'"
      ]
     },
     "execution_count": 35,
     "metadata": {},
     "output_type": "execute_result"
    }
   ],
   "source": [
    "from langchain.chains import LLMChain\n",
    "\n",
    "chain = LLMChain(llm=llm, prompt=prompt)\n",
    "output_code = chain.run(code)\n",
    "output_code"
   ]
  },
  {
   "cell_type": "code",
   "execution_count": 36,
   "metadata": {},
   "outputs": [],
   "source": [
    "documented_file_path = base_project_path + '\\\\notebooks\\\\test_file\\\\docummented_file.py'\n",
    "\n",
    "# Save the updated code to a new file\n",
    "with open(documented_file_path, 'w') as file:\n",
    "    file.write(output_code)"
   ]
  },
  {
   "cell_type": "code",
   "execution_count": null,
   "metadata": {},
   "outputs": [],
   "source": []
  }
 ],
 "metadata": {
  "kernelspec": {
   "display_name": ".venv",
   "language": "python",
   "name": "python3"
  },
  "language_info": {
   "codemirror_mode": {
    "name": "ipython",
    "version": 3
   },
   "file_extension": ".py",
   "mimetype": "text/x-python",
   "name": "python",
   "nbconvert_exporter": "python",
   "pygments_lexer": "ipython3",
   "version": "3.10.11"
  },
  "orig_nbformat": 4
 },
 "nbformat": 4,
 "nbformat_minor": 2
}
