{
 "cells": [
  {
   "cell_type": "code",
   "execution_count": 1,
   "metadata": {},
   "outputs": [],
   "source": [
    "import requests\n",
    "import os"
   ]
  },
  {
   "cell_type": "markdown",
   "metadata": {},
   "source": [
    "### Test the API root endpoint"
   ]
  },
  {
   "cell_type": "code",
   "execution_count": 2,
   "metadata": {},
   "outputs": [
    {
     "name": "stdout",
     "output_type": "stream",
     "text": [
      "{'message': 'API Running'}\n"
     ]
    }
   ],
   "source": [
    "# Send a GET request\n",
    "response = requests.get('http://localhost:8000/')\n",
    "\n",
    "# Check the response status code\n",
    "if response.status_code == 200:\n",
    "    # Get the JSON response data\n",
    "    data = response.json()\n",
    "    print(data)\n",
    "else:\n",
    "    print(\"Request failed with status code:\", response.status_code)\n"
   ]
  },
  {
   "cell_type": "markdown",
   "metadata": {},
   "source": [
    "### Generate docstring"
   ]
  },
  {
   "cell_type": "code",
   "execution_count": 3,
   "metadata": {},
   "outputs": [
    {
     "data": {
      "text/plain": [
       "'import os\\n\\ndef my_function(arg1, arg2):\\n    pass\\n\\nclass MyClass:\\n    pass\\n\\n    def __init__(self):\\n        pass\\n    \\n    def my_method(self, arg1, arg2):\\n        pass'"
      ]
     },
     "execution_count": 3,
     "metadata": {},
     "output_type": "execute_result"
    }
   ],
   "source": [
    "# Step 1: Read the Python file\n",
    "base_project_path = os.getcwd().split(os.environ['PROJECT_NAME'])[0] + os.environ['PROJECT_NAME'] \n",
    "undocumented_file_path = base_project_path + '\\\\src\\\\test_file\\\\undocummented_file.py'\n",
    "\n",
    "with open(undocumented_file_path, 'r') as file:\n",
    "    code = file.read()\n",
    "    \n",
    "code"
   ]
  },
  {
   "cell_type": "code",
   "execution_count": 4,
   "metadata": {},
   "outputs": [
    {
     "name": "stdout",
     "output_type": "stream",
     "text": [
      "Request failed with status code: 500\n"
     ]
    }
   ],
   "source": [
    "# Step 2: Send a POST request to the API\n",
    "url = \"http://localhost:8000/generate_docstring\"\n",
    "json_data = {\"file_contents\": code}  # Replace with the actual file contents\n",
    "response = requests.post(url, json=json_data)\n",
    "\n",
    "if response.status_code == 200:\n",
    "    result = response.json()\n",
    "    output_code = result['output_code']\n",
    "    print(result)\n",
    "else:\n",
    "    print(\"Request failed with status code:\", response.status_code)\n",
    "    "
   ]
  },
  {
   "cell_type": "code",
   "execution_count": 5,
   "metadata": {},
   "outputs": [
    {
     "ename": "NameError",
     "evalue": "name 'output_code' is not defined",
     "output_type": "error",
     "traceback": [
      "\u001b[1;31m---------------------------------------------------------------------------\u001b[0m",
      "\u001b[1;31mNameError\u001b[0m                                 Traceback (most recent call last)",
      "Cell \u001b[1;32mIn[5], line 6\u001b[0m\n\u001b[0;32m      4\u001b[0m \u001b[39m# Save the updated code to a new file\u001b[39;00m\n\u001b[0;32m      5\u001b[0m \u001b[39mwith\u001b[39;00m \u001b[39mopen\u001b[39m(documented_file_path, \u001b[39m'\u001b[39m\u001b[39mw\u001b[39m\u001b[39m'\u001b[39m) \u001b[39mas\u001b[39;00m file:\n\u001b[1;32m----> 6\u001b[0m     file\u001b[39m.\u001b[39mwrite(output_code)\n",
      "\u001b[1;31mNameError\u001b[0m: name 'output_code' is not defined"
     ]
    }
   ],
   "source": [
    "# Step 3: Write the output to a file\n",
    "documented_file_path = base_project_path + '\\\\src\\\\test_file\\\\docummented_file.py'\n",
    "\n",
    "# Save the updated code to a new file\n",
    "with open(documented_file_path, 'w') as file:\n",
    "    file.write(output_code)"
   ]
  },
  {
   "cell_type": "code",
   "execution_count": null,
   "metadata": {},
   "outputs": [],
   "source": []
  }
 ],
 "metadata": {
  "kernelspec": {
   "display_name": ".venv",
   "language": "python",
   "name": "python3"
  },
  "language_info": {
   "codemirror_mode": {
    "name": "ipython",
    "version": 3
   },
   "file_extension": ".py",
   "mimetype": "text/x-python",
   "name": "python",
   "nbconvert_exporter": "python",
   "pygments_lexer": "ipython3",
   "version": "3.10.11"
  },
  "orig_nbformat": 4
 },
 "nbformat": 4,
 "nbformat_minor": 2
}
